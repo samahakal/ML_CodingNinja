{
 "cells": [
  {
   "cell_type": "code",
   "execution_count": 78,
   "id": "e12e659d",
   "metadata": {},
   "outputs": [
    {
     "name": "stdout",
     "output_type": "stream",
     "text": [
      "[0, 1, 2, 3, 4] 5\n"
     ]
    }
   ],
   "source": [
    "a = list(i for i in range(5))\n",
    "print(a,len(a))"
   ]
  },
  {
   "cell_type": "code",
   "execution_count": 79,
   "id": "490cab34",
   "metadata": {},
   "outputs": [],
   "source": [
    "b = [4,5,6]"
   ]
  },
  {
   "cell_type": "code",
   "execution_count": 80,
   "id": "ecc6bf0e",
   "metadata": {},
   "outputs": [
    {
     "name": "stdout",
     "output_type": "stream",
     "text": [
      "[0, 1, 2, 3, 4, 4, 5, 6]\n"
     ]
    }
   ],
   "source": [
    "print(a + b)"
   ]
  },
  {
   "cell_type": "code",
   "execution_count": 81,
   "id": "b3812ea4",
   "metadata": {},
   "outputs": [
    {
     "name": "stdout",
     "output_type": "stream",
     "text": [
      "[0, 1, 2, 3, 4, 0, 1, 2, 3, 4, 0, 1, 2, 3, 4]\n"
     ]
    }
   ],
   "source": [
    "print(a*3)"
   ]
  },
  {
   "cell_type": "code",
   "execution_count": 82,
   "id": "3a083eb5",
   "metadata": {},
   "outputs": [
    {
     "name": "stdout",
     "output_type": "stream",
     "text": [
      "[0, 1, 2, 3, 4, 10]\n"
     ]
    }
   ],
   "source": [
    "# add data\n",
    "a.append(10)\n",
    "print(a)"
   ]
  },
  {
   "cell_type": "code",
   "execution_count": 83,
   "id": "0de1dc5d",
   "metadata": {},
   "outputs": [
    {
     "name": "stdout",
     "output_type": "stream",
     "text": [
      "[0, 1, 20, 2, 3, 4, 10]\n"
     ]
    }
   ],
   "source": [
    "a.insert(2,20)\n",
    "print(a)"
   ]
  },
  {
   "cell_type": "code",
   "execution_count": 84,
   "id": "b21c59c9",
   "metadata": {},
   "outputs": [
    {
     "name": "stdout",
     "output_type": "stream",
     "text": [
      "[0, 1, 20, 2, 3, 4, 10, 4, 5, 6]\n"
     ]
    }
   ],
   "source": [
    "a.extend(b)\n",
    "print(a)"
   ]
  },
  {
   "cell_type": "code",
   "execution_count": 85,
   "id": "6f4930d3",
   "metadata": {},
   "outputs": [
    {
     "name": "stdout",
     "output_type": "stream",
     "text": [
      "[0, 1, 20, 2, 3, 4, 10, 4, 6]\n"
     ]
    }
   ],
   "source": [
    "# delete data\n",
    "\n",
    "a.remove(5)         # remove '5' value element ( to remvoe particular element)\n",
    "print(a)"
   ]
  },
  {
   "cell_type": "code",
   "execution_count": 86,
   "id": "d627b6b6",
   "metadata": {},
   "outputs": [
    {
     "name": "stdout",
     "output_type": "stream",
     "text": [
      "20\n"
     ]
    }
   ],
   "source": [
    "print(a.pop(2))         # remove element prenet at index '2' \n"
   ]
  },
  {
   "cell_type": "code",
   "execution_count": 87,
   "id": "ebb8f681",
   "metadata": {},
   "outputs": [
    {
     "name": "stdout",
     "output_type": "stream",
     "text": [
      "[0, 1, 2, 3, 10, 4, 6]\n"
     ]
    }
   ],
   "source": [
    "del a[4]\n",
    "print(a)"
   ]
  },
  {
   "cell_type": "code",
   "execution_count": 92,
   "id": "3a921b01",
   "metadata": {},
   "outputs": [
    {
     "name": "stdout",
     "output_type": "stream",
     "text": [
      "[1, 3, 3, 4, 5, 6]\n",
      "6\n"
     ]
    }
   ],
   "source": [
    "# for homogeneous data-type element\n",
    "a = [6,3,5,4,1,3]\n",
    "a.sort()\n",
    "print(a)\n",
    "print(max(a))"
   ]
  },
  {
   "cell_type": "code",
   "execution_count": 98,
   "id": "5ca180d4",
   "metadata": {},
   "outputs": [
    {
     "name": "stdout",
     "output_type": "stream",
     "text": [
      "5\n"
     ]
    }
   ],
   "source": [
    "print(a.index(6))       # give the index where 6 is present in a"
   ]
  },
  {
   "cell_type": "code",
   "execution_count": 99,
   "id": "189ec5a8",
   "metadata": {},
   "outputs": [
    {
     "data": {
      "text/plain": [
       "False"
      ]
     },
     "execution_count": 99,
     "metadata": {},
     "output_type": "execute_result"
    }
   ],
   "source": [
    "100 in b"
   ]
  },
  {
   "cell_type": "code",
   "execution_count": 101,
   "id": "95db5821",
   "metadata": {},
   "outputs": [
    {
     "data": {
      "text/plain": [
       "True"
      ]
     },
     "execution_count": 101,
     "metadata": {},
     "output_type": "execute_result"
    }
   ],
   "source": [
    "3 in a"
   ]
  },
  {
   "cell_type": "code",
   "execution_count": 103,
   "id": "08c47557",
   "metadata": {},
   "outputs": [
    {
     "name": "stdout",
     "output_type": "stream",
     "text": [
      "[1, 3, 3, 4, 5]\n",
      "5\n",
      "[1, 3, 3, 4]\n"
     ]
    }
   ],
   "source": [
    "print(a)\n",
    "print(a.pop())\n",
    "print(a)"
   ]
  }
 ],
 "metadata": {
  "kernelspec": {
   "display_name": "Python 3 (ipykernel)",
   "language": "python",
   "name": "python3"
  },
  "language_info": {
   "codemirror_mode": {
    "name": "ipython",
    "version": 3
   },
   "file_extension": ".py",
   "mimetype": "text/x-python",
   "name": "python",
   "nbconvert_exporter": "python",
   "pygments_lexer": "ipython3",
   "version": "3.10.0"
  }
 },
 "nbformat": 4,
 "nbformat_minor": 5
}
