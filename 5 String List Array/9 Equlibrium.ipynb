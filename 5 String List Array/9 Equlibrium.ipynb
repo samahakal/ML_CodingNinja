{
 "cells": [
  {
   "cell_type": "code",
   "execution_count": 21,
   "id": "470c74f5",
   "metadata": {},
   "outputs": [
    {
     "name": "stdout",
     "output_type": "stream",
     "text": [
      "1 4 9 3 2\n",
      "2\n"
     ]
    }
   ],
   "source": [
    "# return the index in list where it's  right and left sum is equal\n",
    "\n",
    "l = list(int(s) for s in input().split())\n",
    "\n",
    "prefix = list(i for i in l)\n",
    "suffix = list(i for i in l)\n",
    "sum1 = 0\n",
    "sum2 = 0\n",
    "n = len(l)\n",
    "ps = -1;\n",
    "for i in range(0,n):\n",
    "    \n",
    "    prefix[i] = (sum1)\n",
    "    suffix[n-i-1] = sum2\n",
    "    sum1 += l[i]\n",
    "    sum2 += l[n-i-1]\n",
    "\n",
    "for i in range(0,n):\n",
    "    if(prefix[i] == suffix[i]):\n",
    "        ps = i\n",
    "        break\n",
    "        \n",
    "print(ps)\n",
    "\n",
    "    "
   ]
  }
 ],
 "metadata": {
  "kernelspec": {
   "display_name": "Python 3 (ipykernel)",
   "language": "python",
   "name": "python3"
  },
  "language_info": {
   "codemirror_mode": {
    "name": "ipython",
    "version": 3
   },
   "file_extension": ".py",
   "mimetype": "text/x-python",
   "name": "python",
   "nbconvert_exporter": "python",
   "pygments_lexer": "ipython3",
   "version": "3.10.0"
  }
 },
 "nbformat": 4,
 "nbformat_minor": 5
}
