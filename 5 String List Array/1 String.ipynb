{
 "cells": [
  {
   "cell_type": "code",
   "execution_count": 12,
   "id": "858f22ee",
   "metadata": {},
   "outputs": [
    {
     "name": "stdout",
     "output_type": "stream",
     "text": [
      "abc def\n",
      "abc def\n"
     ]
    },
    {
     "data": {
      "text/plain": [
       "(str, str)"
      ]
     },
     "execution_count": 12,
     "metadata": {},
     "output_type": "execute_result"
    }
   ],
   "source": [
    "# in python there is no char data-type exist , for single char also string use\n",
    "\n",
    "a  = \"abc def\"\n",
    "b = 'abc def'\n",
    "print(a)\n",
    "print(b)\n",
    "\n",
    "type(a), type(b)"
   ]
  },
  {
   "cell_type": "code",
   "execution_count": 17,
   "id": "bac31acc",
   "metadata": {},
   "outputs": [
    {
     "name": "stdout",
     "output_type": "stream",
     "text": [
      "a\n",
      "c\n"
     ]
    },
    {
     "data": {
      "text/plain": [
       "str"
      ]
     },
     "execution_count": 17,
     "metadata": {},
     "output_type": "execute_result"
    }
   ],
   "source": [
    "print(a[0])\n",
    "print(a[2])\n",
    "type(a[0])\n"
   ]
  },
  {
   "cell_type": "code",
   "execution_count": 20,
   "id": "f33fda54",
   "metadata": {},
   "outputs": [
    {
     "name": "stdout",
     "output_type": "stream",
     "text": [
      "abc def"
     ]
    }
   ],
   "source": [
    "for i in a:\n",
    "    print(i,end = '')"
   ]
  },
  {
   "cell_type": "code",
   "execution_count": 23,
   "id": "9db673f5",
   "metadata": {},
   "outputs": [],
   "source": [
    "# string is immutable -> we can't change string if it's defince once i.e if  a = \"shubham\" then we can't change a[3]\n",
    "# but we can change whole string defining new string at different address and then initiallise a with new location\n",
    "\n",
    "a = \"shubham\"\n",
    "\n",
    "# a[3] = 'z'    # give an error\n",
    "\n",
    "a = \"samahakal04\"\n"
   ]
  }
 ],
 "metadata": {
  "kernelspec": {
   "display_name": "Python 3 (ipykernel)",
   "language": "python",
   "name": "python3"
  },
  "language_info": {
   "codemirror_mode": {
    "name": "ipython",
    "version": 3
   },
   "file_extension": ".py",
   "mimetype": "text/x-python",
   "name": "python",
   "nbconvert_exporter": "python",
   "pygments_lexer": "ipython3",
   "version": "3.10.0"
  }
 },
 "nbformat": 4,
 "nbformat_minor": 5
}
