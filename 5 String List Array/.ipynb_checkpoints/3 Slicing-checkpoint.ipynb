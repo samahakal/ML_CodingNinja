{
 "cells": [
  {
   "cell_type": "code",
   "execution_count": 21,
   "id": "bde60e71",
   "metadata": {},
   "outputs": [
    {
     "name": "stdout",
     "output_type": "stream",
     "text": [
      "i\n",
      "is is sl\n",
      "is is slicing\n",
      "this is slicing\n",
      "ing\n",
      "in\n"
     ]
    }
   ],
   "source": [
    "a = \"this is slicing\"\n",
    "\n",
    "print(a[2])\n",
    "print(a[2:10])          # from index 2 to 9 (st to en-1)\n",
    "print(a[2:])            # from 2 to ending of string\n",
    "print(a[:])             # from begining to end\n",
    "\n",
    "print(a[-3:])           # print last three char \n",
    "print(a[-3:-1])\n"
   ]
  },
  {
   "cell_type": "code",
   "execution_count": 10,
   "id": "904e36df",
   "metadata": {},
   "outputs": [
    {
     "name": "stdout",
     "output_type": "stream",
     "text": [
      "i ss\n",
      "ils si s\n"
     ]
    }
   ],
   "source": [
    "print(a[2:10:2])        # by skipping (increment by 2) in forward\n",
    "\n",
    "print(a[10:2:-1])       # by skipping (decrement by 1) in backward"
   ]
  },
  {
   "cell_type": "code",
   "execution_count": 15,
   "id": "6cf366ed",
   "metadata": {},
   "outputs": [
    {
     "name": "stdout",
     "output_type": "stream",
     "text": [
      "abcdxefgh\n",
      "abcdyefgh\n"
     ]
    }
   ],
   "source": [
    "# replace first occurence of a with b\n",
    "\n",
    "s = input()     # we want to replace a by b in s\n",
    "a = 'x'        \n",
    "b = 'y'\n",
    "\n",
    "p = s.find(a)\n",
    "if p != -1:\n",
    "    s = s[0:p] + b + s[p+1:]\n",
    "\n",
    "print(s)"
   ]
  },
  {
   "cell_type": "code",
   "execution_count": 22,
   "id": "37b1e18b",
   "metadata": {},
   "outputs": [
    {
     "name": "stdout",
     "output_type": "stream",
     "text": [
      "abdxabxydfgx\n",
      "abdyabyydfgy\n"
     ]
    }
   ],
   "source": [
    "# replace all occurence of a with b\n",
    "\n",
    "s = input()     # we want to replace a by b in s\n",
    "a = 'x'        \n",
    "b = 'y'\n",
    "\n",
    "for i in range(0,len(s)):\n",
    "    if s[i] == a:\n",
    "        s = s[:i] + b + s[i+1:]\n",
    "print(s)"
   ]
  },
  {
   "cell_type": "code",
   "execution_count": 36,
   "id": "8f4586e4",
   "metadata": {},
   "outputs": [
    {
     "name": "stdout",
     "output_type": "stream",
     "text": [
      "aaaab\n",
      "Not Palindrom\n"
     ]
    }
   ],
   "source": [
    "# palindrom\n",
    "\n",
    "s = input()\n",
    "n = len(s)\n",
    "i = int(n/2)\n",
    "\n",
    "if n%2 == 0:\n",
    "    a = s[0:i]\n",
    "    b = s[n-1:i-1:-1]\n",
    "else:\n",
    "    a = s[0:i]\n",
    "    b = s[n-1:i:-1]\n",
    "if a == b:\n",
    "    print(\"Palindrom\")\n",
    "else:\n",
    "    print(\"Not Palindrom\")"
   ]
  }
 ],
 "metadata": {
  "kernelspec": {
   "display_name": "Python 3 (ipykernel)",
   "language": "python",
   "name": "python3"
  },
  "language_info": {
   "codemirror_mode": {
    "name": "ipython",
    "version": 3
   },
   "file_extension": ".py",
   "mimetype": "text/x-python",
   "name": "python",
   "nbconvert_exporter": "python",
   "pygments_lexer": "ipython3",
   "version": "3.10.0"
  }
 },
 "nbformat": 4,
 "nbformat_minor": 5
}
