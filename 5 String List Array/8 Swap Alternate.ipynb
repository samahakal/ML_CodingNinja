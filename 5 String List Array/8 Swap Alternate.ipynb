{
 "cells": [
  {
   "cell_type": "code",
   "execution_count": 3,
   "id": "45025583",
   "metadata": {},
   "outputs": [
    {
     "name": "stdout",
     "output_type": "stream",
     "text": [
      "1 2 3 4 5\n",
      "[2, 1, 4, 3, 5]\n"
     ]
    }
   ],
   "source": [
    "l = list(int(s) for s in input().split())\n",
    "n = len(l)\n",
    "\n",
    "for i in range(0,n,2):\n",
    "    if(i<n-1):\n",
    "        temp = l[i]\n",
    "        l[i] = l[i+1]\n",
    "        l[i+1] = temp\n",
    "print(l)"
   ]
  }
 ],
 "metadata": {
  "kernelspec": {
   "display_name": "Python 3 (ipykernel)",
   "language": "python",
   "name": "python3"
  },
  "language_info": {
   "codemirror_mode": {
    "name": "ipython",
    "version": 3
   },
   "file_extension": ".py",
   "mimetype": "text/x-python",
   "name": "python",
   "nbconvert_exporter": "python",
   "pygments_lexer": "ipython3",
   "version": "3.10.0"
  }
 },
 "nbformat": 4,
 "nbformat_minor": 5
}
