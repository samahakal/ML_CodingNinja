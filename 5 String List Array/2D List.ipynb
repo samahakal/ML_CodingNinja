{
 "cells": [
  {
   "cell_type": "code",
   "execution_count": 1,
   "id": "0190769a",
   "metadata": {},
   "outputs": [],
   "source": [
    "a = [[1,2,3,4],[5,6,7,8],[9,10,11,12],[13,14,15,16]]"
   ]
  },
  {
   "cell_type": "code",
   "execution_count": 2,
   "id": "990315d6",
   "metadata": {},
   "outputs": [
    {
     "data": {
      "text/plain": [
       "[[5, 6, 7, 8], [9, 10, 11, 12]]"
      ]
     },
     "execution_count": 2,
     "metadata": {},
     "output_type": "execute_result"
    }
   ],
   "source": [
    "a[1:3]"
   ]
  },
  {
   "cell_type": "code",
   "execution_count": 4,
   "id": "29be4374",
   "metadata": {},
   "outputs": [
    {
     "data": {
      "text/plain": [
       "[[1, 2],\n",
       " [1, 2],\n",
       " [1, 2],\n",
       " [1, 2],\n",
       " [1, 2],\n",
       " [1, 2],\n",
       " [1, 2],\n",
       " [1, 2],\n",
       " [1, 2],\n",
       " [1, 2]]"
      ]
     },
     "execution_count": 4,
     "metadata": {},
     "output_type": "execute_result"
    }
   ],
   "source": [
    "a = [[1,2] for i in range(10)]\n",
    "a"
   ]
  },
  {
   "cell_type": "code",
   "execution_count": 8,
   "id": "37827e48",
   "metadata": {},
   "outputs": [
    {
     "data": {
      "text/plain": [
       "[[0, 1, 2, 3, 4],\n",
       " [0, 1, 2, 3, 4],\n",
       " [0, 1, 2, 3, 4],\n",
       " [0, 1, 2, 3, 4],\n",
       " [0, 1, 2, 3, 4],\n",
       " [0, 1, 2, 3, 4],\n",
       " [0, 1, 2, 3, 4],\n",
       " [0, 1, 2, 3, 4],\n",
       " [0, 1, 2, 3, 4],\n",
       " [0, 1, 2, 3, 4]]"
      ]
     },
     "execution_count": 8,
     "metadata": {},
     "output_type": "execute_result"
    }
   ],
   "source": [
    "a = [[j for j in range(5)] for i in range(10)]\n",
    "a"
   ]
  },
  {
   "cell_type": "code",
   "execution_count": 9,
   "id": "d6915635",
   "metadata": {},
   "outputs": [
    {
     "data": {
      "text/plain": [
       "[[0, 0, 0, 0, 0],\n",
       " [1, 1, 1, 1, 1],\n",
       " [2, 2, 2, 2, 2],\n",
       " [3, 3, 3, 3, 3],\n",
       " [4, 4, 4, 4, 4],\n",
       " [5, 5, 5, 5, 5],\n",
       " [6, 6, 6, 6, 6],\n",
       " [7, 7, 7, 7, 7],\n",
       " [8, 8, 8, 8, 8],\n",
       " [9, 9, 9, 9, 9]]"
      ]
     },
     "execution_count": 9,
     "metadata": {},
     "output_type": "execute_result"
    }
   ],
   "source": [
    "a = [[i for j in range(5)] for i in range(10)]\n",
    "a"
   ]
  },
  {
   "cell_type": "code",
   "execution_count": 13,
   "id": "2328e6e1",
   "metadata": {},
   "outputs": [],
   "source": [
    "def print_colum_wise_sum(a):\n",
    "    m = len(a)\n",
    "    if m == 0:\n",
    "        return\n",
    "    n = len(a[0])\n",
    "    for j in range(n):\n",
    "        sum_j = 0\n",
    "        for i in range(m):\n",
    "            sum_j += a[i][j]\n",
    "        print(sum_j)\n",
    "    return"
   ]
  },
  {
   "cell_type": "code",
   "execution_count": 31,
   "id": "49657f0f",
   "metadata": {},
   "outputs": [
    {
     "name": "stdout",
     "output_type": "stream",
     "text": [
      "[[0, 1, 2, 3, 4], [0, 1, 2, 3, 4], [0, 1, 2, 3, 4], [0, 1, 2, 3, 4], [0, 1, 2, 3, 4], [0, 1, 2, 3, 4], [0, 1, 2, 3, 4], [0, 1, 2, 3, 4], [0, 1, 2, 3, 4], [0, 1, 2, 3, 4]]\n",
      "0\n",
      "10\n",
      "20\n",
      "30\n",
      "40\n"
     ]
    }
   ],
   "source": [
    "a = [[j for j in range(5)] for i in range(10)]\n",
    "print(a)\n",
    "print_colum_wise_sum(a)"
   ]
  },
  {
   "cell_type": "code",
   "execution_count": 30,
   "id": "40cd5657",
   "metadata": {},
   "outputs": [
    {
     "name": "stdout",
     "output_type": "stream",
     "text": [
      "[10, 23, 56, [200]]\n"
     ]
    }
   ],
   "source": [
    "a = [10,23,56,[78]]\n",
    "b = list(a)           # they only copy on 0th level. That's called shallow copy. \n",
    "                      #The element of a nested elementare copied by reference\n",
    "a[2] = 100\n",
    "a[3][0] = 200 \n",
    "print(b)"
   ]
  },
  {
   "cell_type": "code",
   "execution_count": 33,
   "id": "471f5eaa",
   "metadata": {},
   "outputs": [
    {
     "name": "stdout",
     "output_type": "stream",
     "text": [
      "[[0, 1, 2, 3, 4], [0, 1, 2, 3, 4], [0, 1, 2, 3, 4], [0, 1, 2, 3, 4], [0, 1, 2, 3, 4], [0, 1, 2, 3, 4], [0, 1, 2, 3, 4], [0, 1, 2, 3, 4], [0, 1, 2, 3, 4], [0, 1, 2, 3, 4]]\n",
      "10\n",
      "10\n",
      "10\n",
      "10\n",
      "10\n",
      "10\n",
      "10\n",
      "10\n",
      "10\n",
      "10\n"
     ]
    }
   ],
   "source": [
    "# row wise sum\n",
    "a = [[j for j in range(5)] for i in range(10)]\n",
    "print(a)\n",
    "for i in range(10):\n",
    "    sum = 0\n",
    "    for j in range(5):\n",
    "        sum += a[i][j]\n",
    "    print(sum)"
   ]
  },
  {
   "cell_type": "code",
   "execution_count": 36,
   "id": "11a2b6af",
   "metadata": {},
   "outputs": [
    {
     "name": "stdout",
     "output_type": "stream",
     "text": [
      "2 4\n",
      "1 2 3 4\n",
      "5 6 7 8\n",
      "[[1, 2, 3, 4], [5, 6, 7, 8]]\n"
     ]
    }
   ],
   "source": [
    "# wave traverse\n",
    "\n",
    "sizes = input().split()\n",
    "m = int(sizes[0])\n",
    "n = int(sizes[1])\n",
    "\n",
    "l = []\n",
    "for i in range(m):\n",
    "    next_row = []\n",
    "    row = input().split()\n",
    "    for j in range(n):\n",
    "        next_row.append(int(row[j]))\n",
    "    l.append(next_row)\n",
    "    \n",
    "\n",
    "ans = []\n",
    "for i in range n :\n",
    "    if(i%2 == 0):\n",
    "        for j in range(m):\n",
    "            ans.append(l[j][i])\n",
    "    else:\n",
    "        for j in range(-1,m,-1):\n",
    "            ans.append(l[j][i])\n",
    "    \n"
   ]
  }
 ],
 "metadata": {
  "kernelspec": {
   "display_name": "Python 3 (ipykernel)",
   "language": "python",
   "name": "python3"
  },
  "language_info": {
   "codemirror_mode": {
    "name": "ipython",
    "version": 3
   },
   "file_extension": ".py",
   "mimetype": "text/x-python",
   "name": "python",
   "nbconvert_exporter": "python",
   "pygments_lexer": "ipython3",
   "version": "3.10.0"
  }
 },
 "nbformat": 4,
 "nbformat_minor": 5
}
