{
 "cells": [
  {
   "cell_type": "code",
   "execution_count": 1,
   "id": "2af9f7c7",
   "metadata": {},
   "outputs": [
    {
     "name": "stdout",
     "output_type": "stream",
     "text": [
      "1\n",
      "2\n",
      "3\n",
      "4\n",
      "5\n",
      "6\n",
      "7\n",
      "8\n",
      "9\n",
      "this will bw printed onece at the end\n"
     ]
    }
   ],
   "source": [
    "# in python we can use \"else\" along with loop \n",
    "\n",
    "\n",
    "# code inside else will not be execute if while or loop \n",
    "# is finised beacuase of break statement \n",
    "\n",
    "\n",
    "i = 1\n",
    "while i < 10:\n",
    "    print(i)\n",
    "    i += 1\n",
    "else:\n",
    "    print(\"this will bw printed onece at the end\")"
   ]
  },
  {
   "cell_type": "code",
   "execution_count": 3,
   "id": "eb16931e",
   "metadata": {
    "scrolled": true
   },
   "outputs": [
    {
     "name": "stdout",
     "output_type": "stream",
     "text": [
      "1\n",
      "2\n",
      "3\n",
      "4\n",
      "5\n"
     ]
    }
   ],
   "source": [
    "# code inside else will not be execute if while or loop \n",
    "# is finised beacuase of break statement \n",
    "\n",
    "\n",
    "i = 1\n",
    "for i in range(1,10,1):\n",
    "    print(i)\n",
    "    i += 1\n",
    "else:\n",
    "    print(\"this will bw printed onece at the end\")"
   ]
  },
  {
   "cell_type": "code",
   "execution_count": null,
   "id": "9979929f",
   "metadata": {},
   "outputs": [],
   "source": [
    "# code inside else will not be execute if while or loop \n",
    "# is finised beacuase of break statement \n",
    "\n",
    "\n",
    "i = 1\n",
    "for i in range(1,10,1):\n",
    "    if i == 6:\n",
    "        break\n",
    "    print(i)\n",
    "    i += 1\n",
    "else:\n",
    "    print(\"this will bw printed onece at the end\")"
   ]
  },
  {
   "cell_type": "code",
   "execution_count": 8,
   "id": "c689bb0b",
   "metadata": {},
   "outputs": [
    {
     "name": "stdout",
     "output_type": "stream",
     "text": [
      "13\n",
      "Prime Number\n"
     ]
    }
   ],
   "source": [
    "# prime number \n",
    "\n",
    "n = int(input())\n",
    "for i in range(2,n,1):\n",
    "    if n%i == 0:\n",
    "        break\n",
    "else:\n",
    "    print(\"Prime Number\")"
   ]
  }
 ],
 "metadata": {
  "kernelspec": {
   "display_name": "Python 3 (ipykernel)",
   "language": "python",
   "name": "python3"
  },
  "language_info": {
   "codemirror_mode": {
    "name": "ipython",
    "version": 3
   },
   "file_extension": ".py",
   "mimetype": "text/x-python",
   "name": "python",
   "nbconvert_exporter": "python",
   "pygments_lexer": "ipython3",
   "version": "3.10.0"
  }
 },
 "nbformat": 4,
 "nbformat_minor": 5
}
