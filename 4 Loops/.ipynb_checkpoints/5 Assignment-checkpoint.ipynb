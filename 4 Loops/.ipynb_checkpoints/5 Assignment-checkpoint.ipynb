{
 "cells": [
  {
   "cell_type": "code",
   "execution_count": 13,
   "id": "02cf3ccc",
   "metadata": {},
   "outputs": [
    {
     "name": "stdout",
     "output_type": "stream",
     "text": [
      "10\n",
      "13\n",
      "-1\n"
     ]
    }
   ],
   "source": [
    "# sum or product till n\n",
    "\n",
    "n = int(input())          # 1 to n integer range\n",
    "c = int(input())          # 1 -> sum  , 2-> product perform from 1 to n\n",
    "\n",
    "ans = 0\n",
    "\n",
    "\n",
    "if(c == 1):\n",
    "    ans = 0\n",
    "    for i in range(n+1):\n",
    "        ans += i\n",
    "        \n",
    "elif c == 2:\n",
    "    ans = 1\n",
    "    for i in range(1,n+1):\n",
    "        ans *= i\n",
    "else:\n",
    "    ans = -1\n",
    "    \n",
    "print(ans)"
   ]
  }
 ],
 "metadata": {
  "kernelspec": {
   "display_name": "Python 3 (ipykernel)",
   "language": "python",
   "name": "python3"
  },
  "language_info": {
   "codemirror_mode": {
    "name": "ipython",
    "version": 3
   },
   "file_extension": ".py",
   "mimetype": "text/x-python",
   "name": "python",
   "nbconvert_exporter": "python",
   "pygments_lexer": "ipython3",
   "version": "3.10.0"
  }
 },
 "nbformat": 4,
 "nbformat_minor": 5
}
