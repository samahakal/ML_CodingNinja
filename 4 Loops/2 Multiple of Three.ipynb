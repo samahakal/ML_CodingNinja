{
 "cells": [
  {
   "cell_type": "code",
   "execution_count": 6,
   "id": "0a8aa0d4",
   "metadata": {},
   "outputs": [
    {
     "name": "stdout",
     "output_type": "stream",
     "text": [
      "10 \n",
      "25\n",
      "12 15 18 21 24 "
     ]
    }
   ],
   "source": [
    "# print multiples of 3\n",
    "\n",
    "a = int(input())\n",
    "b = int(input())\n",
    "\n",
    "for i in range(a,b+1,1):\n",
    "    if(i%3 == 0):\n",
    "        print(i,end = ' ')\n",
    "        "
   ]
  },
  {
   "cell_type": "code",
   "execution_count": 20,
   "id": "c0b9adc0",
   "metadata": {},
   "outputs": [
    {
     "name": "stdout",
     "output_type": "stream",
     "text": [
      "10\n",
      "25\n",
      "12 15 18 21 24 "
     ]
    }
   ],
   "source": [
    "# print multiples of 3\n",
    "# optimal solution iterate less as compare to first code\n",
    "\n",
    "a = int(input())\n",
    "b = int(input())\n",
    "\n",
    "if(a%3 == 0):\n",
    "    s = a\n",
    "elif (a + 1)%3 == 0:\n",
    "    s = a + 1\n",
    "else:\n",
    "    s = a + 2\n",
    "for i in range(s,b+1,3):\n",
    "    print(i,end = ' ')\n"
   ]
  },
  {
   "cell_type": "code",
   "execution_count": 29,
   "id": "2c987050",
   "metadata": {},
   "outputs": [
    {
     "name": "stdout",
     "output_type": "stream",
     "text": [
      "4\n",
      "5 11 14 17 "
     ]
    }
   ],
   "source": [
    "# write a program to print first x terms of the series 3N + 2 which are not multiple of 4.\n",
    "\n",
    "x = int(input())\n",
    "k = 1\n",
    "temp = 5\n",
    "i = 1\n",
    "while(i<=x):\n",
    "    if(temp%4 != 0):\n",
    "        print(temp,end = ' ')\n",
    "        i += 1\n",
    "        \n",
    "    k += 1\n",
    "    temp = k*3 + 2\n"
   ]
  }
 ],
 "metadata": {
  "kernelspec": {
   "display_name": "Python 3 (ipykernel)",
   "language": "python",
   "name": "python3"
  },
  "language_info": {
   "codemirror_mode": {
    "name": "ipython",
    "version": 3
   },
   "file_extension": ".py",
   "mimetype": "text/x-python",
   "name": "python",
   "nbconvert_exporter": "python",
   "pygments_lexer": "ipython3",
   "version": "3.10.0"
  }
 },
 "nbformat": 4,
 "nbformat_minor": 5
}
