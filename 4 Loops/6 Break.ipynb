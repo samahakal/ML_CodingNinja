{
 "cells": [
  {
   "cell_type": "code",
   "execution_count": 4,
   "id": "d3c11fbe",
   "metadata": {},
   "outputs": [
    {
     "name": "stdout",
     "output_type": "stream",
     "text": [
      "1\n",
      "2\n",
      "3\n",
      "4\n"
     ]
    }
   ],
   "source": [
    "# break -> it use to break a loop \n",
    "\n",
    "i = 1\n",
    "while(i < 10):\n",
    "    if i == 5:\n",
    "        break\n",
    "    print(i)\n",
    "    i += 1"
   ]
  },
  {
   "cell_type": "code",
   "execution_count": 10,
   "id": "04b7609c",
   "metadata": {},
   "outputs": [
    {
     "name": "stdout",
     "output_type": "stream",
     "text": [
      "12345678\n",
      "No a Prime\n"
     ]
    }
   ],
   "source": [
    "# without break (prime chek)\n",
    "\n",
    "n = int(input())\n",
    "\n",
    "flag = True\n",
    "\n",
    "for i in range(2,n,1):\n",
    "    if n%i == 0:\n",
    "        flag = False\n",
    "        \n",
    "if flag:\n",
    "    print(\"Prime\")\n",
    "else:\n",
    "    print(\"No a Prime\")"
   ]
  },
  {
   "cell_type": "code",
   "execution_count": 11,
   "id": "6feae5cf",
   "metadata": {},
   "outputs": [
    {
     "name": "stdout",
     "output_type": "stream",
     "text": [
      "12345678\n",
      "No a Prime\n"
     ]
    }
   ],
   "source": [
    "# with break (prime chek ) -> run faster as compare to above prime check code\n",
    "n = int(input())\n",
    "\n",
    "\n",
    "flag = True\n",
    "\n",
    "for i in range(2,n,1):\n",
    "    if n%i == 0:\n",
    "        flag = False\n",
    "        break\n",
    "        \n",
    "if flag:\n",
    "    print(\"Prime\")\n",
    "else:\n",
    "    print(\"No a Prime\")\n",
    "    "
   ]
  },
  {
   "cell_type": "code",
   "execution_count": 15,
   "id": "20e2ece7",
   "metadata": {},
   "outputs": [
    {
     "name": "stdout",
     "output_type": "stream",
     "text": [
      "10\n",
      "2\n",
      "3\n",
      "5\n",
      "7\n"
     ]
    }
   ],
   "source": [
    "n = int(input())\n",
    "\n",
    "i = 2\n",
    "flag = True\n",
    "\n",
    "while i<=n:\n",
    "    j = 2\n",
    "    flag = True\n",
    "    while j<i:\n",
    "        if i%j == 0:\n",
    "            flag = False\n",
    "            break\n",
    "        j += 1\n",
    "    if flag:\n",
    "        print(i)\n",
    "    i += 1"
   ]
  },
  {
   "cell_type": "code",
   "execution_count": null,
   "id": "0824c1a5",
   "metadata": {},
   "outputs": [],
   "source": []
  }
 ],
 "metadata": {
  "kernelspec": {
   "display_name": "Python 3 (ipykernel)",
   "language": "python",
   "name": "python3"
  },
  "language_info": {
   "codemirror_mode": {
    "name": "ipython",
    "version": 3
   },
   "file_extension": ".py",
   "mimetype": "text/x-python",
   "name": "python",
   "nbconvert_exporter": "python",
   "pygments_lexer": "ipython3",
   "version": "3.10.0"
  }
 },
 "nbformat": 4,
 "nbformat_minor": 5
}
