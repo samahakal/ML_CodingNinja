{
 "cells": [
  {
   "cell_type": "code",
   "execution_count": 8,
   "id": "ba045bea",
   "metadata": {},
   "outputs": [
    {
     "name": "stdout",
     "output_type": "stream",
     "text": [
      "4\n",
      "    1\n",
      "   232\n",
      "  34543\n",
      " 4567654\n"
     ]
    }
   ],
   "source": [
    "# pyramid\n",
    "\n",
    "n = int(input())\n",
    "\n",
    "for i in range(1,n+1,1):\n",
    "    # space \n",
    "    for j in range(0,n-i+1):\n",
    "        print(\" \",end = \"\")\n",
    "    \n",
    "    # increasing\n",
    "    for j in range(i,2*i):\n",
    "        print(j,end = \"\")\n",
    "        \n",
    "    # decreament\n",
    "    for j in range(2*i-2,i-1,-1):\n",
    "        print(j,end = \"\")\n",
    "    print()\n",
    "    "
   ]
  },
  {
   "cell_type": "code",
   "execution_count": null,
   "id": "1c3be04b",
   "metadata": {},
   "outputs": [],
   "source": []
  }
 ],
 "metadata": {
  "kernelspec": {
   "display_name": "Python 3 (ipykernel)",
   "language": "python",
   "name": "python3"
  },
  "language_info": {
   "codemirror_mode": {
    "name": "ipython",
    "version": 3
   },
   "file_extension": ".py",
   "mimetype": "text/x-python",
   "name": "python",
   "nbconvert_exporter": "python",
   "pygments_lexer": "ipython3",
   "version": "3.10.0"
  }
 },
 "nbformat": 4,
 "nbformat_minor": 5
}
