{
 "cells": [
  {
   "cell_type": "code",
   "execution_count": 5,
   "id": "ed2eab60",
   "metadata": {},
   "outputs": [],
   "source": [
    "a = 10 \n",
    "b = 4\n"
   ]
  },
  {
   "cell_type": "code",
   "execution_count": 6,
   "id": "b1c6bc6a",
   "metadata": {},
   "outputs": [
    {
     "name": "stdout",
     "output_type": "stream",
     "text": [
      "2.5\n"
     ]
    }
   ],
   "source": [
    "print(a/b)        # floating division"
   ]
  },
  {
   "cell_type": "code",
   "execution_count": 9,
   "id": "8beb378d",
   "metadata": {},
   "outputs": [
    {
     "name": "stdout",
     "output_type": "stream",
     "text": [
      "2\n"
     ]
    }
   ],
   "source": [
    "print(a//b)        # integer division"
   ]
  },
  {
   "cell_type": "code",
   "execution_count": 12,
   "id": "a9a9666d",
   "metadata": {},
   "outputs": [
    {
     "name": "stdout",
     "output_type": "stream",
     "text": [
      "10000\n"
     ]
    }
   ],
   "source": [
    "print(a**b)            # exponentiation (a to power b)"
   ]
  },
  {
   "cell_type": "code",
   "execution_count": 13,
   "id": "d8f5e6a1",
   "metadata": {},
   "outputs": [
    {
     "name": "stdout",
     "output_type": "stream",
     "text": [
      "2\n"
     ]
    }
   ],
   "source": [
    "print(a%b)"
   ]
  },
  {
   "cell_type": "code",
   "execution_count": 14,
   "id": "36f0aab3",
   "metadata": {},
   "outputs": [
    {
     "name": "stdout",
     "output_type": "stream",
     "text": [
      "14\n"
     ]
    }
   ],
   "source": [
    "print(2+3*4)    # 14 or 20 -> 14"
   ]
  },
  {
   "cell_type": "code",
   "execution_count": 19,
   "id": "c9aedff7",
   "metadata": {},
   "outputs": [
    {
     "name": "stdout",
     "output_type": "stream",
     "text": [
      "1.5\n"
     ]
    }
   ],
   "source": [
    "print(2*3/4)      # doesn't matter what operation is done first"
   ]
  },
  {
   "cell_type": "code",
   "execution_count": 21,
   "id": "e684c090",
   "metadata": {},
   "outputs": [
    {
     "name": "stdout",
     "output_type": "stream",
     "text": [
      "1\n",
      "0\n"
     ]
    }
   ],
   "source": [
    "print(2 * 3 // 4)      # left to right priority order of an operations\n",
    "print(3 // 4 * 2)      # left to right priority order of an operations"
   ]
  },
  {
   "cell_type": "code",
   "execution_count": 25,
   "id": "a4cf51d9",
   "metadata": {},
   "outputs": [
    {
     "name": "stdout",
     "output_type": "stream",
     "text": [
      "37.77777777777778\n",
      "37.77777777777778\n",
      "37\n"
     ]
    }
   ],
   "source": [
    "# fah to celcium conversion\n",
    "f = 100\n",
    "c1 =( (f - 32) * 5 )/ 9           # always use brackets for no confusion\n",
    "c2 = (f - 32) * 5 // 9\n",
    "print(c)\n",
    "print(c1)\n",
    "print(c2)"
   ]
  }
 ],
 "metadata": {
  "kernelspec": {
   "display_name": "Python 3 (ipykernel)",
   "language": "python",
   "name": "python3"
  },
  "language_info": {
   "codemirror_mode": {
    "name": "ipython",
    "version": 3
   },
   "file_extension": ".py",
   "mimetype": "text/x-python",
   "name": "python",
   "nbconvert_exporter": "python",
   "pygments_lexer": "ipython3",
   "version": "3.10.0"
  }
 },
 "nbformat": 4,
 "nbformat_minor": 5
}
