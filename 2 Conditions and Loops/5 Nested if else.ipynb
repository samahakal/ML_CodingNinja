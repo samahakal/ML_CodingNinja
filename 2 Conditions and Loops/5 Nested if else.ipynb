{
 "cells": [
  {
   "cell_type": "markdown",
   "id": "8069e5dc",
   "metadata": {},
   "source": [
    "# nested condition\n",
    "condition in condition -> use if, else condition in if, else"
   ]
  },
  {
   "cell_type": "code",
   "execution_count": 3,
   "id": "a020c57d",
   "metadata": {},
   "outputs": [
    {
     "name": "stdout",
     "output_type": "stream",
     "text": [
      "0\n",
      "n is even\n",
      "n is zero\n"
     ]
    }
   ],
   "source": [
    "n = int(input())         \n",
    "\n",
    "if n%2 == 0:\n",
    "    print(\"n is even\")\n",
    "    if(n == 0):\n",
    "        print(\"n is zero\")\n",
    "else:\n",
    "    print(\"n is odd\")"
   ]
  },
  {
   "cell_type": "code",
   "execution_count": 6,
   "id": "e813a6f8",
   "metadata": {},
   "outputs": [
    {
     "name": "stdout",
     "output_type": "stream",
     "text": [
      "C\n"
     ]
    }
   ],
   "source": [
    "if False and True or False:\n",
    "    print(\"A\")\n",
    "    \n",
    "elif False and True or False and True:\n",
    "    print(\"B\")\n",
    "    \n",
    "elif False and False or True and True:\n",
    "    print(\"C\")\n",
    "    \n",
    "else:\n",
    "    print(\"D\")"
   ]
  }
 ],
 "metadata": {
  "kernelspec": {
   "display_name": "Python 3 (ipykernel)",
   "language": "python",
   "name": "python3"
  },
  "language_info": {
   "codemirror_mode": {
    "name": "ipython",
    "version": 3
   },
   "file_extension": ".py",
   "mimetype": "text/x-python",
   "name": "python",
   "nbconvert_exporter": "python",
   "pygments_lexer": "ipython3",
   "version": "3.10.0"
  }
 },
 "nbformat": 4,
 "nbformat_minor": 5
}
