{
 "cells": [
  {
   "cell_type": "markdown",
   "id": "0e08218f",
   "metadata": {},
   "source": [
    "### intput : start, end, gap\n",
    "### output : fahrenheit Celsius"
   ]
  },
  {
   "cell_type": "code",
   "execution_count": 5,
   "id": "0394779d",
   "metadata": {},
   "outputs": [
    {
     "name": "stdout",
     "output_type": "stream",
     "text": [
      "20 \n",
      "119\n",
      "13\n",
      "20 -6\n",
      "33 0\n",
      "46 7\n",
      "59 15\n",
      "72 22\n",
      "85 29\n",
      "98 36\n",
      "111 43\n"
     ]
    }
   ],
   "source": [
    "s = int(input())\n",
    "e = int(input())\n",
    "g = int(input())\n",
    "\n",
    "while(s<=e):\n",
    "    c = int((s-32)*5/9)\n",
    "    print(s,c)\n",
    "    \n",
    "    s += g"
   ]
  }
 ],
 "metadata": {
  "kernelspec": {
   "display_name": "Python 3 (ipykernel)",
   "language": "python",
   "name": "python3"
  },
  "language_info": {
   "codemirror_mode": {
    "name": "ipython",
    "version": 3
   },
   "file_extension": ".py",
   "mimetype": "text/x-python",
   "name": "python",
   "nbconvert_exporter": "python",
   "pygments_lexer": "ipython3",
   "version": "3.10.0"
  }
 },
 "nbformat": 4,
 "nbformat_minor": 5
}
