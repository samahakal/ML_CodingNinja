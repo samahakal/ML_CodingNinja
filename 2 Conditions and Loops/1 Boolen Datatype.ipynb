{
 "cells": [
  {
   "cell_type": "code",
   "execution_count": 27,
   "id": "5d83fc0c",
   "metadata": {},
   "outputs": [
    {
     "name": "stdout",
     "output_type": "stream",
     "text": [
      "True\n",
      "False\n"
     ]
    }
   ],
   "source": [
    "a = True\n",
    "b = False\n",
    "\n",
    "# a = true           IndentationError\n",
    "# b = false          IndentationError\n",
    "\n",
    "print(a)\n",
    "print(b)"
   ]
  },
  {
   "cell_type": "markdown",
   "id": "4e9fefa1",
   "metadata": {},
   "source": [
    "# Relational Operator\n"
   ]
  },
  {
   "cell_type": "code",
   "execution_count": 30,
   "id": "3c11fdcb",
   "metadata": {},
   "outputs": [
    {
     "name": "stdout",
     "output_type": "stream",
     "text": [
      "False\n",
      "True\n",
      "False\n",
      "True\n"
     ]
    }
   ],
   "source": [
    "a = 12\n",
    "b = 123\n",
    "\n",
    "print(a > b)      # false\n",
    "print(a < b)      # true\n",
    "print(a == b)     # false\n",
    "print(a != b)     # true\n"
   ]
  },
  {
   "cell_type": "markdown",
   "id": "b1d86ed7",
   "metadata": {},
   "source": [
    "# Logical Operators\n"
   ]
  },
  {
   "cell_type": "code",
   "execution_count": 32,
   "id": "65e48561",
   "metadata": {},
   "outputs": [
    {
     "name": "stdout",
     "output_type": "stream",
     "text": [
      "False\n",
      "True\n",
      "False\n"
     ]
    }
   ],
   "source": [
    "c1 = a>10         # true\n",
    "c2 = b>1000       # false\n",
    "print(c1 & c2)\n",
    "print(c1 | c2)\n",
    "\n",
    "r1 = not(c1)     # c1 is tre then r1 become false\n",
    "\n",
    "print(r1)"
   ]
  }
 ],
 "metadata": {
  "kernelspec": {
   "display_name": "Python 3 (ipykernel)",
   "language": "python",
   "name": "python3"
  },
  "language_info": {
   "codemirror_mode": {
    "name": "ipython",
    "version": 3
   },
   "file_extension": ".py",
   "mimetype": "text/x-python",
   "name": "python",
   "nbconvert_exporter": "python",
   "pygments_lexer": "ipython3",
   "version": "3.10.0"
  }
 },
 "nbformat": 4,
 "nbformat_minor": 5
}
