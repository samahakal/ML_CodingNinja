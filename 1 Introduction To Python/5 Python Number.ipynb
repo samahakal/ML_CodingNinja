{
 "cells": [
  {
   "cell_type": "code",
   "execution_count": 5,
   "id": "93fc2b9f",
   "metadata": {},
   "outputs": [
    {
     "name": "stdout",
     "output_type": "stream",
     "text": [
      "10 <class 'int'>\n",
      "10.01 <class 'float'>\n",
      "(10+3j) <class 'complex'>\n"
     ]
    }
   ],
   "source": [
    "a1 = 10\n",
    "a2 = 10.01\n",
    "a3 = 10 + 3j\n",
    "\n",
    "print(a1,type(a1))\n",
    "print(a2,type(a2))\n",
    "print(a3,type(a3))"
   ]
  },
  {
   "cell_type": "code",
   "execution_count": 34,
   "id": "72d29689",
   "metadata": {},
   "outputs": [
    {
     "name": "stdout",
     "output_type": "stream",
     "text": [
      "2016556089872\n",
      "2016556089904\n",
      "2016556089904\n"
     ]
    }
   ],
   "source": [
    "a = 10\n",
    "print(id(a))\n",
    "a = a + 1\n",
    "\n",
    "\n",
    "b = a-1+1\n",
    "\n",
    "print(id(a))\n",
    "print(id(b))        ## id of a and be equal { all integer in range -5 to 256 store in same id}\n"
   ]
  }
 ],
 "metadata": {
  "kernelspec": {
   "display_name": "Python 3 (ipykernel)",
   "language": "python",
   "name": "python3"
  },
  "language_info": {
   "codemirror_mode": {
    "name": "ipython",
    "version": 3
   },
   "file_extension": ".py",
   "mimetype": "text/x-python",
   "name": "python",
   "nbconvert_exporter": "python",
   "pygments_lexer": "ipython3",
   "version": "3.10.0"
  }
 },
 "nbformat": 4,
 "nbformat_minor": 5
}
