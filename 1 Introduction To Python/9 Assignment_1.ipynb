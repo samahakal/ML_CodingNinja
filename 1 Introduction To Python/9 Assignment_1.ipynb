{
 "cells": [
  {
   "cell_type": "markdown",
   "id": "e1d123a9",
   "metadata": {},
   "source": [
    "Find avg marks : input a,b,c and output there avg"
   ]
  },
  {
   "cell_type": "code",
   "execution_count": 3,
   "id": "edd2c0cc",
   "metadata": {},
   "outputs": [
    {
     "name": "stdout",
     "output_type": "stream",
     "text": [
      "3 \n",
      "4\n",
      "6\n",
      "4.333333333333333\n"
     ]
    }
   ],
   "source": [
    "a = int(input())\n",
    "b = int(input())\n",
    "c = int(input())\n",
    "\n",
    "print((a+b+c)/3)"
   ]
  }
 ],
 "metadata": {
  "kernelspec": {
   "display_name": "Python 3 (ipykernel)",
   "language": "python",
   "name": "python3"
  },
  "language_info": {
   "codemirror_mode": {
    "name": "ipython",
    "version": 3
   },
   "file_extension": ".py",
   "mimetype": "text/x-python",
   "name": "python",
   "nbconvert_exporter": "python",
   "pygments_lexer": "ipython3",
   "version": "3.10.0"
  }
 },
 "nbformat": 4,
 "nbformat_minor": 5
}
