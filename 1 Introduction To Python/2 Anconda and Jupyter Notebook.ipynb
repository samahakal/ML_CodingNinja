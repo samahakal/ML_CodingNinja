{
 "cells": [
  {
   "cell_type": "markdown",
   "id": "7816234f",
   "metadata": {},
   "source": [
    "# samahakal04\n",
    "\n",
    "we can write markdown or python code in our cells. You can choose according in the dropdown above."
   ]
  },
  {
   "cell_type": "raw",
   "id": "0862a0c6",
   "metadata": {},
   "source": []
  },
  {
   "cell_type": "code",
   "execution_count": 4,
   "id": "73c9f79f",
   "metadata": {},
   "outputs": [
    {
     "name": "stdout",
     "output_type": "stream",
     "text": [
      "6\n"
     ]
    }
   ],
   "source": [
    "print(1+5)"
   ]
  },
  {
   "cell_type": "code",
   "execution_count": null,
   "id": "58c529ab",
   "metadata": {},
   "outputs": [],
   "source": []
  },
  {
   "cell_type": "code",
   "execution_count": null,
   "id": "2708566c",
   "metadata": {},
   "outputs": [],
   "source": []
  }
 ],
 "metadata": {
  "kernelspec": {
   "display_name": "Python 3 (ipykernel)",
   "language": "python",
   "name": "python3"
  },
  "language_info": {
   "codemirror_mode": {
    "name": "ipython",
    "version": 3
   },
   "file_extension": ".py",
   "mimetype": "text/x-python",
   "name": "python",
   "nbconvert_exporter": "python",
   "pygments_lexer": "ipython3",
   "version": "3.10.0"
  }
 },
 "nbformat": 4,
 "nbformat_minor": 5
}
