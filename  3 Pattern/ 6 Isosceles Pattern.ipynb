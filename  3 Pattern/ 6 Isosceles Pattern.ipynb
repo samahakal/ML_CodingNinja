{
 "cells": [
  {
   "cell_type": "code",
   "execution_count": 10,
   "id": "f743ea22",
   "metadata": {},
   "outputs": [
    {
     "name": "stdout",
     "output_type": "stream",
     "text": [
      "5\n",
      "    1\n",
      "   121\n",
      "  12321\n",
      " 1234321\n",
      "123454321\n"
     ]
    }
   ],
   "source": [
    "n = int(input())\n",
    "\n",
    "i = 1\n",
    "while i<=n:\n",
    "    \n",
    "    \n",
    "    # spaces\n",
    "    j = 1\n",
    "    while(j<=n-i):\n",
    "        print(' ',end = '')\n",
    "        j += 1   \n",
    "    \n",
    "    \n",
    "    # increasing sequence\n",
    "    j = 1\n",
    "    while(j<=i):\n",
    "        \n",
    "        print(j,end = '')\n",
    "        j += 1\n",
    "     \n",
    "    \n",
    "    # decresing sequence\n",
    "    \n",
    "    j = j-2\n",
    "    while(j>=1):\n",
    "        print(j,end = '')\n",
    "        j -= 1\n",
    "        \n",
    "    \n",
    "    print()    \n",
    "    i += 1"
   ]
  },
  {
   "cell_type": "code",
   "execution_count": 12,
   "id": "bf264c9b",
   "metadata": {},
   "outputs": [
    {
     "name": "stdout",
     "output_type": "stream",
     "text": [
      "5\n",
      "    *\n",
      "   ***\n",
      "  *****\n",
      " *******\n",
      "*********\n"
     ]
    }
   ],
   "source": [
    "n = int(input())\n",
    "\n",
    "i = 1\n",
    "while i<=n:\n",
    "    \n",
    "    \n",
    "    # spaces\n",
    "    j = 1\n",
    "    while(j<=n-i):\n",
    "        print(' ',end = '')\n",
    "        j += 1   \n",
    "    \n",
    "    \n",
    "    # '*' sequence\n",
    "    j = 1\n",
    "    while(j<=2*i-1):\n",
    "        \n",
    "        print('*',end = '')\n",
    "        j += 1        \n",
    "    \n",
    "    print()    \n",
    "    i += 1"
   ]
  },
  {
   "cell_type": "code",
   "execution_count": 17,
   "id": "55dbc4a3",
   "metadata": {},
   "outputs": [
    {
     "name": "stdout",
     "output_type": "stream",
     "text": [
      "5\n",
      "    1\n",
      "   232\n",
      "  34543\n",
      " 4567654\n",
      "567898765\n"
     ]
    }
   ],
   "source": [
    "n = int(input())\n",
    "\n",
    "i = 1\n",
    "while i<=n:\n",
    "    \n",
    "    \n",
    "    # spaces\n",
    "    j = 1\n",
    "    while(j<=n-i):\n",
    "        print(' ',end = '')\n",
    "        j += 1   \n",
    "    \n",
    "    \n",
    "    # increasing sequence\n",
    "    j = i\n",
    "    while(j<=i+i-1):\n",
    "        \n",
    "        print(j,end = '')\n",
    "        j += 1\n",
    "     \n",
    "    \n",
    "    # decresing sequence\n",
    "    \n",
    "    j = j-2\n",
    "    while(j>=i):\n",
    "        print(j,end = '')\n",
    "        j -= 1\n",
    "        \n",
    "    \n",
    "    print()    \n",
    "    i += 1"
   ]
  },
  {
   "cell_type": "code",
   "execution_count": 20,
   "id": "f741bdd2",
   "metadata": {},
   "outputs": [
    {
     "name": "stdout",
     "output_type": "stream",
     "text": [
      "5\n",
      "    *\n",
      "   ***\n",
      "  *****\n",
      " *******\n",
      "*********\n",
      " *******\n",
      "  *****\n",
      "   ***\n",
      "    *\n"
     ]
    }
   ],
   "source": [
    "n = int(input())\n",
    "\n",
    "# half pattern (include middle row)\n",
    "i = 1\n",
    "while i<=n:\n",
    "    \n",
    "    \n",
    "    # spaces\n",
    "    j = 1\n",
    "    while(j<=n-i):\n",
    "        print(' ',end = '')\n",
    "        j += 1   \n",
    "    \n",
    "    \n",
    "    # '*' sequence\n",
    "    j = 1\n",
    "    while(j<=2*i-1):\n",
    "        \n",
    "        print('*',end = '')\n",
    "        j += 1        \n",
    "    \n",
    "    print()    \n",
    "    i += 1\n",
    "\n",
    "    \n",
    "# half pattern (exclude middle row)\n",
    "i = n-1\n",
    "while i>0:\n",
    "    \n",
    "    \n",
    "    # spaces\n",
    "    j = 1\n",
    "    while(j<=n-i):\n",
    "        print(' ',end = '')\n",
    "        j += 1   \n",
    "    \n",
    "    \n",
    "    # '*' sequence\n",
    "    j = 1\n",
    "    while(j<=2*i-1):\n",
    "        \n",
    "        print('*',end = '')\n",
    "        j += 1        \n",
    "    \n",
    "    print()    \n",
    "    i -= 1\n"
   ]
  }
 ],
 "metadata": {
  "kernelspec": {
   "display_name": "Python 3 (ipykernel)",
   "language": "python",
   "name": "python3"
  },
  "language_info": {
   "codemirror_mode": {
    "name": "ipython",
    "version": 3
   },
   "file_extension": ".py",
   "mimetype": "text/x-python",
   "name": "python",
   "nbconvert_exporter": "python",
   "pygments_lexer": "ipython3",
   "version": "3.10.0"
  }
 },
 "nbformat": 4,
 "nbformat_minor": 5
}
