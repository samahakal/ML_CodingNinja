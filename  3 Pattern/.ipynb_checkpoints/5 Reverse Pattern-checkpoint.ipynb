{
 "cells": [
  {
   "cell_type": "code",
   "execution_count": 1,
   "id": "27da5de4",
   "metadata": {},
   "outputs": [
    {
     "name": "stdout",
     "output_type": "stream",
     "text": [
      "5\n",
      "    *\n",
      "   **\n",
      "  ***\n",
      " ****\n",
      "*****\n"
     ]
    }
   ],
   "source": [
    "n = int(input())\n",
    "i = 1\n",
    "\n",
    "while(i<=n):\n",
    "    j = 1\n",
    "    while(j<=n):\n",
    "        \n",
    "        if(j<=n-i):\n",
    "            print(' ',end='')        # print n-i time spaces\n",
    "        else:\n",
    "            print('*',end='')        # print i time '*'\n",
    "        j += 1\n",
    "    \n",
    "    print()\n",
    "    i+=1"
   ]
  },
  {
   "cell_type": "code",
   "execution_count": 3,
   "id": "7e230590",
   "metadata": {},
   "outputs": [
    {
     "name": "stdout",
     "output_type": "stream",
     "text": [
      "5\n",
      "    1\n",
      "   12\n",
      "  123\n",
      " 1234\n",
      "12345\n"
     ]
    }
   ],
   "source": [
    "n = int(input())\n",
    "i = 1\n",
    "\n",
    "while(i<=n):\n",
    "    j = 1\n",
    "    while(j<=n):\n",
    "        \n",
    "        if(j<=n-i):\n",
    "            print(' ',end='')        # print n-i time spaces\n",
    "        else:\n",
    "            print(j - n + i,end='')        # print i time col start from 1\n",
    "        j += 1\n",
    "    \n",
    "    print()\n",
    "    i+=1"
   ]
  }
 ],
 "metadata": {
  "kernelspec": {
   "display_name": "Python 3 (ipykernel)",
   "language": "python",
   "name": "python3"
  },
  "language_info": {
   "codemirror_mode": {
    "name": "ipython",
    "version": 3
   },
   "file_extension": ".py",
   "mimetype": "text/x-python",
   "name": "python",
   "nbconvert_exporter": "python",
   "pygments_lexer": "ipython3",
   "version": "3.10.0"
  }
 },
 "nbformat": 4,
 "nbformat_minor": 5
}
