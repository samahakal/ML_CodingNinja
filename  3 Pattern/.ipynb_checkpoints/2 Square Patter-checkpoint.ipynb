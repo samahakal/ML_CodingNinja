{
 "cells": [
  {
   "cell_type": "markdown",
   "id": "b1dc6878",
   "metadata": {},
   "source": [
    "#### 1 1 1 1               \n",
    "#### 2 2 2 2             \n",
    "#### 4 4 4 4               \n",
    "#### 4 4 4 4             \n"
   ]
  },
  {
   "cell_type": "code",
   "execution_count": 4,
   "id": "4594695e",
   "metadata": {},
   "outputs": [
    {
     "name": "stdout",
     "output_type": "stream",
     "text": [
      "5\n",
      "1 1 1 1 \n",
      "2 2 2 2 \n",
      "3 3 3 3 \n",
      "4 4 4 4 \n",
      "5 5 5 5 \n"
     ]
    }
   ],
   "source": [
    "n = int(input())\n",
    "\n",
    "i = 1\n",
    "\n",
    "while(i<=n):\n",
    "    j = 1\n",
    "    while(j<=4):\n",
    "        print(i, end = ' ')\n",
    "        j += 1\n",
    "    print()\n",
    "    i += 1"
   ]
  },
  {
   "cell_type": "markdown",
   "id": "19755410",
   "metadata": {},
   "source": [
    "#### 1 2 3 4\n",
    "#### 1 2 3 4\n",
    "#### 1 2 3 4\n",
    "#### 1 2 3 4\n"
   ]
  },
  {
   "cell_type": "code",
   "execution_count": 7,
   "id": "30d8f805",
   "metadata": {},
   "outputs": [
    {
     "name": "stdout",
     "output_type": "stream",
     "text": [
      "5\n",
      "1 2 3 4 \n",
      "1 2 3 4 \n",
      "1 2 3 4 \n",
      "1 2 3 4 \n",
      "1 2 3 4 \n"
     ]
    }
   ],
   "source": [
    "n = int(input())\n",
    "\n",
    "i = 1\n",
    "\n",
    "while(i<=n):\n",
    "    j = 1\n",
    "    while(j<=4):\n",
    "        print(j, end = ' ')\n",
    "        j += 1\n",
    "    print()\n",
    "    i += 1"
   ]
  },
  {
   "cell_type": "markdown",
   "id": "068e3169",
   "metadata": {},
   "source": [
    "#### 4 3 2 1\n",
    "#### 4 3 2 1\n",
    "#### 4 3 2 1\n",
    "#### 4 3 2 1"
   ]
  },
  {
   "cell_type": "code",
   "execution_count": 9,
   "id": "aa011100",
   "metadata": {},
   "outputs": [
    {
     "name": "stdout",
     "output_type": "stream",
     "text": [
      "5\n",
      "4 3 2 1 \n",
      "4 3 2 1 \n",
      "4 3 2 1 \n",
      "4 3 2 1 \n",
      "4 3 2 1 \n"
     ]
    }
   ],
   "source": [
    "n = int(input())\n",
    "\n",
    "i = 1\n",
    "\n",
    "while(i<=n):\n",
    "    j = 1\n",
    "    while(j<=4):\n",
    "        print(4-j+1, end = ' ')\n",
    "        j += 1\n",
    "    print()\n",
    "    i += 1"
   ]
  },
  {
   "cell_type": "markdown",
   "id": "f5e72779",
   "metadata": {},
   "source": [
    "print a pattern of n*n where all element is n"
   ]
  },
  {
   "cell_type": "code",
   "execution_count": 11,
   "id": "2327a31a",
   "metadata": {},
   "outputs": [
    {
     "name": "stdout",
     "output_type": "stream",
     "text": [
      "5\n",
      "55555\n",
      "55555\n",
      "55555\n",
      "55555\n",
      "55555\n"
     ]
    }
   ],
   "source": [
    "n = int(input())\n",
    "i = 1\n",
    "while i<=n:\n",
    "    j = 1\n",
    "    while j<=n:\n",
    "        print(n,end = '')\n",
    "        j += 1\n",
    "    print()\n",
    "    i += 1"
   ]
  }
 ],
 "metadata": {
  "kernelspec": {
   "display_name": "Python 3 (ipykernel)",
   "language": "python",
   "name": "python3"
  },
  "language_info": {
   "codemirror_mode": {
    "name": "ipython",
    "version": 3
   },
   "file_extension": ".py",
   "mimetype": "text/x-python",
   "name": "python",
   "nbconvert_exporter": "python",
   "pygments_lexer": "ipython3",
   "version": "3.10.0"
  }
 },
 "nbformat": 4,
 "nbformat_minor": 5
}
