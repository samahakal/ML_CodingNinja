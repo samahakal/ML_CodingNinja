{
 "cells": [
  {
   "cell_type": "code",
   "execution_count": 1,
   "id": "a047f5e3",
   "metadata": {},
   "outputs": [
    {
     "name": "stdout",
     "output_type": "stream",
     "text": [
      "5\n",
      "65\n",
      "E\n"
     ]
    }
   ],
   "source": [
    "# print kth alphabet\n",
    "k = int(input())\n",
    "\n",
    "ascii_value = ord('A')         # ord give ascii value \n",
    "alphabate = chr(ascii_value + k -1)            # chr give char for ascii \n",
    "\n",
    "print(ascii_value)\n",
    "print(alphabate)"
   ]
  },
  {
   "cell_type": "code",
   "execution_count": 2,
   "id": "c7b72d2b",
   "metadata": {},
   "outputs": [
    {
     "name": "stdout",
     "output_type": "stream",
     "text": [
      "5\n",
      "ABCDE\n",
      "ABCDE\n",
      "ABCDE\n",
      "ABCDE\n",
      "ABCDE\n"
     ]
    }
   ],
   "source": [
    "n = int(input())\n",
    "\n",
    "i = 1\n",
    "while i<=n:\n",
    "    j = 1\n",
    "    while j<=n:\n",
    "        c = chr(ord('A') + j - 1)\n",
    "        print(c,end = '')\n",
    "        j += 1\n",
    "        \n",
    "    print()\n",
    "    i += 1"
   ]
  },
  {
   "cell_type": "code",
   "execution_count": 3,
   "id": "021d3c8b",
   "metadata": {},
   "outputs": [
    {
     "name": "stdout",
     "output_type": "stream",
     "text": [
      "5\n",
      "ABCDE\n",
      "BCDEF\n",
      "CDEFG\n",
      "DEFGH\n",
      "EFGHI\n"
     ]
    }
   ],
   "source": [
    "n = int(input())\n",
    "\n",
    "i = 1\n",
    "while i<=n:\n",
    "    j = 1\n",
    "    #start_char = chr(ord('A') + i -1)\n",
    "    while j<=n:\n",
    "        #c = chr(ord(start_char)+ j - 1)\n",
    "        c = chr(ord('A') + j + i - 2)\n",
    "        print(c,end = '')\n",
    "        j += 1\n",
    "        \n",
    "    print()\n",
    "    i += 1"
   ]
  },
  {
   "cell_type": "code",
   "execution_count": 4,
   "id": "d3d98e1c",
   "metadata": {},
   "outputs": [
    {
     "name": "stdout",
     "output_type": "stream",
     "text": [
      "5\n",
      "A \n",
      "A B \n",
      "A B C \n",
      "A B C D \n",
      "A B C D E \n"
     ]
    }
   ],
   "source": [
    "# Alpha Pattern\n",
    "\n",
    "n = int(input())\n",
    "\n",
    "i = 1\n",
    "while i<=n:\n",
    "    j = 1\n",
    "    while j <= i:\n",
    "        print(chr(ord('A')+j-1),end = ' ')\n",
    "        j += 1\n",
    "    print()\n",
    "    i += 1"
   ]
  },
  {
   "cell_type": "code",
   "execution_count": 16,
   "id": "f49ada6d",
   "metadata": {},
   "outputs": [
    {
     "name": "stdout",
     "output_type": "stream",
     "text": [
      "5\n",
      "E \n",
      "F E \n",
      "G F E \n",
      "H G F E \n",
      "I H G F E \n"
     ]
    }
   ],
   "source": [
    "# Interesting Alphabets\n",
    "\n",
    "n = int(input())\n",
    "\n",
    "i = 1\n",
    "while i<=n:\n",
    "    j = 1\n",
    "    while j <= i:\n",
    "        print(chr(ord('A')+n+i-j-1),end = ' ')\n",
    "        j += 1\n",
    "    print()\n",
    "    i += 1"
   ]
  },
  {
   "cell_type": "code",
   "execution_count": 20,
   "id": "5e6c36a5",
   "metadata": {},
   "outputs": [
    {
     "name": "stdout",
     "output_type": "stream",
     "text": [
      "5\n",
      "*****\n",
      "****\n",
      "***\n",
      "**\n",
      "*\n"
     ]
    }
   ],
   "source": [
    "# Inverted Pattern\n",
    "\n",
    "n = int(input())\n",
    "\n",
    "i = 1\n",
    "while i<=n:\n",
    "    j = n - i + 1\n",
    "    while j>0:\n",
    "        print('*',end = '')\n",
    "        j -= 1\n",
    "    print()\n",
    "    i += 1"
   ]
  },
  {
   "cell_type": "code",
   "execution_count": 4,
   "id": "fe72a6f4",
   "metadata": {},
   "outputs": [
    {
     "name": "stdout",
     "output_type": "stream",
     "text": [
      "5\n",
      "55555\n",
      "4444\n",
      "333\n",
      "22\n",
      "1\n"
     ]
    }
   ],
   "source": [
    "# Inverted Pattern\n",
    "\n",
    "n = int(input())\n",
    "\n",
    "i = 1\n",
    "while i<=n:\n",
    "    j = 1\n",
    "    while j<n-i+2:\n",
    "        print(n-i+1,end = '')\n",
    "        j += 1\n",
    "    print()\n",
    "    i += 1"
   ]
  }
 ],
 "metadata": {
  "kernelspec": {
   "display_name": "Python 3 (ipykernel)",
   "language": "python",
   "name": "python3"
  },
  "language_info": {
   "codemirror_mode": {
    "name": "ipython",
    "version": 3
   },
   "file_extension": ".py",
   "mimetype": "text/x-python",
   "name": "python",
   "nbconvert_exporter": "python",
   "pygments_lexer": "ipython3",
   "version": "3.10.0"
  }
 },
 "nbformat": 4,
 "nbformat_minor": 5
}
